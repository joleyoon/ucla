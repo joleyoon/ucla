{
 "cells": [
  {
   "cell_type": "code",
   "execution_count": 12,
   "id": "8704575d",
   "metadata": {},
   "outputs": [],
   "source": [
    "import pandas as pd\n",
    "import numpy as np\n",
    "import statsmodels.api as sm\n",
    "from scipy.stats import t\n",
    "from statsmodels.formula.api import ols\n",
    "\n"
   ]
  },
  {
   "cell_type": "code",
   "execution_count": 13,
   "id": "6f058566",
   "metadata": {},
   "outputs": [
    {
     "name": "stdout",
     "output_type": "stream",
     "text": [
      "         Production  CurrentWeek  LastWeek\n",
      "0       42nd Street       684966    695437\n",
      "1          Avenue Q       502367    498969\n",
      "2  Beauty and Beast       594474    598576\n",
      "3     Bombay Dreams       529298    528994\n",
      "4           Chicago       570254    562964\n"
     ]
    }
   ],
   "source": [
    "# Load data\n",
    "playbill = pd.read_csv(\"playbill.csv\")\n",
    "print(playbill.head())"
   ]
  },
  {
   "cell_type": "code",
   "execution_count": 14,
   "id": "f7e6c080",
   "metadata": {},
   "outputs": [
    {
     "name": "stdout",
     "output_type": "stream",
     "text": [
      "                            OLS Regression Results                            \n",
      "==============================================================================\n",
      "Dep. Variable:            CurrentWeek   R-squared:                       0.997\n",
      "Model:                            OLS   Adj. R-squared:                  0.996\n",
      "Method:                 Least Squares   F-statistic:                     4634.\n",
      "Date:                Sat, 06 Sep 2025   Prob (F-statistic):           3.87e-21\n",
      "Time:                        16:19:09   Log-Likelihood:                -200.85\n",
      "No. Observations:                  18   AIC:                             405.7\n",
      "Df Residuals:                      16   BIC:                             407.5\n",
      "Df Model:                           1                                         \n",
      "Covariance Type:            nonrobust                                         \n",
      "==============================================================================\n",
      "                 coef    std err          t      P>|t|      [0.025      0.975]\n",
      "------------------------------------------------------------------------------\n",
      "Intercept   6804.8860   9929.318      0.685      0.503   -1.42e+04    2.79e+04\n",
      "LastWeek       0.9821      0.014     68.071      0.000       0.951       1.013\n",
      "==============================================================================\n",
      "Omnibus:                        1.260   Durbin-Watson:                   1.438\n",
      "Prob(Omnibus):                  0.532   Jarque-Bera (JB):                0.251\n",
      "Skew:                           0.231   Prob(JB):                        0.882\n",
      "Kurtosis:                       3.347   Cond. No.                     1.61e+06\n",
      "==============================================================================\n",
      "\n",
      "Notes:\n",
      "[1] Standard Errors assume that the covariance matrix of the errors is correctly specified.\n",
      "[2] The condition number is large, 1.61e+06. This might indicate that there are\n",
      "strong multicollinearity or other numerical problems.\n",
      "            df        sum_sq       mean_sq           F        PR(>F)\n",
      "LastWeek   1.0  1.502585e+12  1.502585e+12  4633.71583  3.866450e-21\n",
      "Residual  16.0  5.188354e+09  3.242721e+08         NaN           NaN\n"
     ]
    },
    {
     "name": "stderr",
     "output_type": "stream",
     "text": [
      "/Library/Frameworks/Python.framework/Versions/3.12/lib/python3.12/site-packages/scipy/stats/_axis_nan_policy.py:418: UserWarning: `kurtosistest` p-value may be inaccurate with fewer than 20 observations; only n=18 observations were given.\n",
      "  return hypotest_fun_in(*args, **kwds)\n"
     ]
    }
   ],
   "source": [
    "# Fit linear model CurrentWeek ~ LastWeek\n",
    "X = sm.add_constant(playbill['LastWeek'])  # add intercept\n",
    "y = playbill['CurrentWeek']\n",
    "model = ols('CurrentWeek ~ LastWeek', data=playbill).fit()\n",
    "print(model.summary())\n",
    "\n",
    "# ANOVA table\n",
    "anova_results = sm.stats.anova_lm(model)\n",
    "print(anova_results)"
   ]
  },
  {
   "cell_type": "code",
   "execution_count": 15,
   "id": "4703d59e",
   "metadata": {},
   "outputs": [
    {
     "name": "stdout",
     "output_type": "stream",
     "text": [
      "95% CI for slope b1: [0.95149713 1.01266583]\n"
     ]
    }
   ],
   "source": [
    "# Question 2a: 95% CI for slope b1\n",
    "b1 = model.params['LastWeek']\n",
    "b1_std_error = model.bse['LastWeek']\n",
    "df = model.df_resid\n",
    "t_star = t.ppf(0.975, df)\n",
    "b1_ci = b1 + np.array([-1, 1]) * t_star * b1_std_error\n",
    "\n",
    "print(\"95% CI for slope b1:\", b1_ci)"
   ]
  },
  {
   "cell_type": "code",
   "execution_count": 17,
   "id": "76b166ef",
   "metadata": {},
   "outputs": [
    {
     "name": "stdout",
     "output_type": "stream",
     "text": [
      "Two-tailed p-value for intercept test: 0.7517807298578961\n"
     ]
    }
   ],
   "source": [
    "# t-test for intercept b0\n",
    "b0 = model.params['Intercept']  # use 'Intercept' when using formula API\n",
    "b0_std_error = model.bse['Intercept']\n",
    "b0_hyp = 10000\n",
    "df = model.df_resid\n",
    "\n",
    "t_stat = (b0 - b0_hyp) / b0_std_error\n",
    "\n",
    "# two-tailed p-value\n",
    "if t_stat > 0:\n",
    "    p_val = 2 * (1 - t.cdf(t_stat, df))\n",
    "else:\n",
    "    p_val = 2 * t.cdf(t_stat, df)\n",
    "\n",
    "print(\"Two-tailed p-value for intercept test:\", p_val)"
   ]
  },
  {
   "cell_type": "code",
   "execution_count": 18,
   "id": "7b849c60",
   "metadata": {},
   "outputs": [
    {
     "name": "stdout",
     "output_type": "stream",
     "text": [
      "Prediction interval for x=400000: [359827.35182064 439447.60350672]\n"
     ]
    }
   ],
   "source": [
    "# Question 2c: Prediction interval for x = 400000\n",
    "x_new = 400000\n",
    "y_pred = b0 + b1 * x_new\n",
    "\n",
    "n = len(playbill)\n",
    "s = 18010  # residual standard deviation (given)\n",
    "x_mean = playbill['LastWeek'].mean()\n",
    "s_x = playbill['LastWeek'].std(ddof=1)\n",
    "SXX = (n - 1) * s_x**2\n",
    "\n",
    "PI_width = t_star * s * np.sqrt(1 + 1/n + ((x_new - x_mean)**2 / SXX))\n",
    "PI = y_pred + np.array([-1, 1]) * PI_width\n",
    "print(\"Prediction interval for x=400000:\", PI)\n"
   ]
  },
  {
   "cell_type": "code",
   "execution_count": 19,
   "id": "263fd7e2",
   "metadata": {},
   "outputs": [
    {
     "name": "stdout",
     "output_type": "stream",
     "text": [
      "95% CI for b0: [0.39124972 0.89217008]\n"
     ]
    }
   ],
   "source": [
    "# Question 3a: 95% CI for b0\n",
    "b0_val = 0.6417099\n",
    "b0_se = 0.1222707\n",
    "df3 = 28\n",
    "t_star3 = t.ppf(0.975, df3)\n",
    "b0_ci = b0_val + np.array([-1, 1]) * t_star3 * b0_se\n",
    "print(\"95% CI for b0:\", b0_ci)"
   ]
  },
  {
   "cell_type": "code",
   "execution_count": 20,
   "id": "2e0caea9",
   "metadata": {},
   "outputs": [
    {
     "name": "stdout",
     "output_type": "stream",
     "text": [
      "p-value for t-test: 0.9371241529830511\n"
     ]
    }
   ],
   "source": [
    "# Question 3b: t-test\n",
    "t_stat3b = (0.0112916 - 0.01) / 0.0008184\n",
    "p_val3b = t.cdf(t_stat3b, df3)\n",
    "print(\"p-value for t-test:\", p_val3b)"
   ]
  },
  {
   "cell_type": "code",
   "execution_count": 21,
   "id": "a73a596f",
   "metadata": {},
   "outputs": [
    {
     "name": "stdout",
     "output_type": "stream",
     "text": [
      "Prediction interval for Question 3c: [1.42396821 2.79743179]\n"
     ]
    }
   ],
   "source": [
    "# Question 3c: Prediction interval\n",
    "y_pred3c = 0.6417 + 0.0113 * 130\n",
    "s3c = 0.3298\n",
    "n3c = 30  # assuming sample size\n",
    "PI3c = y_pred3c + np.array([-1, 1]) * t_star3 * s3c * np.sqrt(1 + 1/n3c)\n",
    "print(\"Prediction interval for Question 3c:\", PI3c)"
   ]
  }
 ],
 "metadata": {
  "kernelspec": {
   "display_name": "Python 3",
   "language": "python",
   "name": "python3"
  },
  "language_info": {
   "codemirror_mode": {
    "name": "ipython",
    "version": 3
   },
   "file_extension": ".py",
   "mimetype": "text/x-python",
   "name": "python",
   "nbconvert_exporter": "python",
   "pygments_lexer": "ipython3",
   "version": "3.12.8"
  }
 },
 "nbformat": 4,
 "nbformat_minor": 5
}
