{
 "cells": [
  {
   "cell_type": "code",
   "execution_count": 1,
   "id": "e5216175",
   "metadata": {},
   "outputs": [],
   "source": [
    "from homework1 import gcd, gcdi, lcm, add_2_frac, is_prime, get_factors"
   ]
  },
  {
   "cell_type": "code",
   "execution_count": null,
   "id": "4db5b52a",
   "metadata": {},
   "outputs": [
    {
     "name": "stdout",
     "output_type": "stream",
     "text": [
      "5\n",
      "2\n",
      "1\n"
     ]
    }
   ],
   "source": [
    "# Question 1\n",
    "print(gcd(180, 25))\n",
    "print(gcdi([16, 32, -58]))\n",
    "print(gcdi([4789, 6123, 199]))"
   ]
  },
  {
   "cell_type": "code",
   "execution_count": 3,
   "id": "b66dcff6",
   "metadata": {},
   "outputs": [
    {
     "name": "stdout",
     "output_type": "stream",
     "text": [
      "{'num': 16, 'denom': 55}\n",
      "{'num': -6, 'denom': 55}\n"
     ]
    }
   ],
   "source": [
    "# Question 2\n",
    "print(add_2_frac(1, 11, 1, 5))\n",
    "print(add_2_frac(1, 11, -1, 5))"
   ]
  },
  {
   "cell_type": "code",
   "execution_count": 4,
   "id": "7a6feb7d",
   "metadata": {},
   "outputs": [
    {
     "name": "stdout",
     "output_type": "stream",
     "text": [
      "[False, True]\n",
      "{'primes': [2, 3, 5], 'exponents': [7, 1, 1]}\n"
     ]
    }
   ],
   "source": [
    "# Question 3\n",
    "print(is_prime([9, 7]))\n",
    "print(get_factors(1920))\n",
    "# print(get_factors(1.92))  # would raise ValueError in Python"
   ]
  }
 ],
 "metadata": {
  "kernelspec": {
   "display_name": "Python 3",
   "language": "python",
   "name": "python3"
  },
  "language_info": {
   "codemirror_mode": {
    "name": "ipython",
    "version": 3
   },
   "file_extension": ".py",
   "mimetype": "text/x-python",
   "name": "python",
   "nbconvert_exporter": "python",
   "pygments_lexer": "ipython3",
   "version": "3.12.8"
  }
 },
 "nbformat": 4,
 "nbformat_minor": 5
}
