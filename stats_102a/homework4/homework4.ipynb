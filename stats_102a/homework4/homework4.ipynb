{
 "cells": [
  {
   "cell_type": "code",
   "execution_count": 1,
   "id": "c3d9eb57",
   "metadata": {},
   "outputs": [
    {
     "name": "stdout",
     "output_type": "stream",
     "text": [
      "a = 1234.5678\n",
      "b = 3951413\n",
      "a + b = 3952647.5678\n",
      "a * b = 4878287254.3014\n"
     ]
    }
   ],
   "source": [
    "from homework4 import PQNumber, as_pqnumber, add, subtract, multiply\n",
    "\n",
    "# Example usage:\n",
    "a = PQNumber(1, 3, 4, [1,2,3,4,5,6,7,8])\n",
    "b = PQNumber(1, 6, 0, [3,9,5,1,4,1,3])\n",
    "\n",
    "print(\"a =\", a.decimal_value())\n",
    "print(\"b =\", b.decimal_value())\n",
    "print(\"a + b =\", add(a, b).decimal_value())\n",
    "print(\"a * b =\", multiply(a, b).decimal_value())"
   ]
  }
 ],
 "metadata": {
  "kernelspec": {
   "display_name": "Python 3",
   "language": "python",
   "name": "python3"
  },
  "language_info": {
   "codemirror_mode": {
    "name": "ipython",
    "version": 3
   },
   "file_extension": ".py",
   "mimetype": "text/x-python",
   "name": "python",
   "nbconvert_exporter": "python",
   "pygments_lexer": "ipython3",
   "version": "3.12.8"
  }
 },
 "nbformat": 4,
 "nbformat_minor": 5
}
