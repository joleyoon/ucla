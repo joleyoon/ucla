{
 "cells": [
  {
   "cell_type": "code",
   "execution_count": null,
   "id": "c3d9eb57",
   "metadata": {},
   "outputs": [],
   "source": [
    "from homework4 import PQNumber, as_pqnumber, add, subtract, multiply\n",
    "\n",
    "# Example usage:\n",
    "a = PQNumber(1, 3, 4, [1,2,3,4,5,6,7,8])\n",
    "b = PQNumber(1, 6, 0, [3,9,5,1,4,1,3])\n",
    "\n",
    "print(\"a =\", a.decimal_value())\n",
    "print(\"b =\", b.decimal_value())\n",
    "print(\"a + b =\", add(a, b).decimal_value())\n",
    "print(\"a * b =\", multiply(a, b).decimal_value())"
   ]
  }
 ],
 "metadata": {
  "language_info": {
   "name": "python"
  }
 },
 "nbformat": 4,
 "nbformat_minor": 5
}
